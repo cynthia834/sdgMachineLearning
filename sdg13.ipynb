{
 "cells": [
  {
   "metadata": {},
   "cell_type": "markdown",
   "source": "",
   "id": "59efc56a2a2c7310"
  },
  {
   "metadata": {},
   "cell_type": "markdown",
   "source": [
    "# 🌍 SDG 13: Climate Action – Predicting GHG Emissions\n",
    "**Objective**: Predict greenhouse gas (GHG) emissions (CO2eq) using historical and demographic data.  \n",
    "**Approach**: Supervised Machine Learning using Random Forest Regressor.\n"
   ],
   "id": "e8dd70c049e47ef0"
  },
  {
   "metadata": {
    "ExecuteTime": {
     "end_time": "2025-06-18T12:44:07.150444Z",
     "start_time": "2025-06-18T12:44:07.141568Z"
    }
   },
   "cell_type": "code",
   "source": [
    "import pandas as pd\n",
    "import numpy as np\n",
    "from sklearn.model_selection import train_test_split\n",
    "from sklearn.ensemble import RandomForestRegressor\n",
    "from sklearn.preprocessing import OneHotEncoder\n",
    "from sklearn.compose import ColumnTransformer\n",
    "from sklearn.pipeline import Pipeline\n",
    "from sklearn.metrics import mean_squared_error, mean_absolute_error, r2_score\n",
    "import matplotlib.pyplot as plt\n",
    "import seaborn as sns\n"
   ],
   "id": "1ddf6e7c08ff27e2",
   "outputs": [],
   "execution_count": 3
  },
  {
   "metadata": {},
   "cell_type": "markdown",
   "source": "",
   "id": "202bdba6ddc11081"
  },
  {
   "metadata": {},
   "cell_type": "markdown",
   "source": "## 📥 Load Dataset\n",
   "id": "861fc7c0bf977ec1"
  },
  {
   "metadata": {
    "ExecuteTime": {
     "end_time": "2025-06-18T12:45:28.200759Z",
     "start_time": "2025-06-18T12:45:28.081332Z"
    }
   },
   "cell_type": "code",
   "source": [
    "df = pd.read_csv(\"D:\\Downloads\\FAO_EMSTOT.csv\")\n",
    "df = df[['REF_AREA_LABEL', 'URBANISATION_LABEL', 'COMP_BREAKDOWN_1_LABEL',\n",
    "         'COMP_BREAKDOWN_2_LABEL', 'TIME_PERIOD', 'OBS_VALUE']].dropna()\n",
    "df.head()\n"
   ],
   "id": "e48f3e1623033186",
   "outputs": [
    {
     "data": {
      "text/plain": [
       "  REF_AREA_LABEL URBANISATION_LABEL COMP_BREAKDOWN_1_LABEL  \\\n",
       "0    Afghanistan              Total         Not Applicable   \n",
       "1    Afghanistan              Total         Not Applicable   \n",
       "2    Afghanistan              Total         Not Applicable   \n",
       "3    Afghanistan              Total         Not Applicable   \n",
       "4    Afghanistan              Total         Not Applicable   \n",
       "\n",
       "  COMP_BREAKDOWN_2_LABEL  TIME_PERIOD   OBS_VALUE  \n",
       "0         Not Applicable         1961  10783.7374  \n",
       "1         Not Applicable         1962  10899.2453  \n",
       "2         Not Applicable         1963  11258.7671  \n",
       "3         Not Applicable         1964  11454.0975  \n",
       "4         Not Applicable         1965  11717.5817  "
      ],
      "text/html": [
       "<div>\n",
       "<style scoped>\n",
       "    .dataframe tbody tr th:only-of-type {\n",
       "        vertical-align: middle;\n",
       "    }\n",
       "\n",
       "    .dataframe tbody tr th {\n",
       "        vertical-align: top;\n",
       "    }\n",
       "\n",
       "    .dataframe thead th {\n",
       "        text-align: right;\n",
       "    }\n",
       "</style>\n",
       "<table border=\"1\" class=\"dataframe\">\n",
       "  <thead>\n",
       "    <tr style=\"text-align: right;\">\n",
       "      <th></th>\n",
       "      <th>REF_AREA_LABEL</th>\n",
       "      <th>URBANISATION_LABEL</th>\n",
       "      <th>COMP_BREAKDOWN_1_LABEL</th>\n",
       "      <th>COMP_BREAKDOWN_2_LABEL</th>\n",
       "      <th>TIME_PERIOD</th>\n",
       "      <th>OBS_VALUE</th>\n",
       "    </tr>\n",
       "  </thead>\n",
       "  <tbody>\n",
       "    <tr>\n",
       "      <th>0</th>\n",
       "      <td>Afghanistan</td>\n",
       "      <td>Total</td>\n",
       "      <td>Not Applicable</td>\n",
       "      <td>Not Applicable</td>\n",
       "      <td>1961</td>\n",
       "      <td>10783.7374</td>\n",
       "    </tr>\n",
       "    <tr>\n",
       "      <th>1</th>\n",
       "      <td>Afghanistan</td>\n",
       "      <td>Total</td>\n",
       "      <td>Not Applicable</td>\n",
       "      <td>Not Applicable</td>\n",
       "      <td>1962</td>\n",
       "      <td>10899.2453</td>\n",
       "    </tr>\n",
       "    <tr>\n",
       "      <th>2</th>\n",
       "      <td>Afghanistan</td>\n",
       "      <td>Total</td>\n",
       "      <td>Not Applicable</td>\n",
       "      <td>Not Applicable</td>\n",
       "      <td>1963</td>\n",
       "      <td>11258.7671</td>\n",
       "    </tr>\n",
       "    <tr>\n",
       "      <th>3</th>\n",
       "      <td>Afghanistan</td>\n",
       "      <td>Total</td>\n",
       "      <td>Not Applicable</td>\n",
       "      <td>Not Applicable</td>\n",
       "      <td>1964</td>\n",
       "      <td>11454.0975</td>\n",
       "    </tr>\n",
       "    <tr>\n",
       "      <th>4</th>\n",
       "      <td>Afghanistan</td>\n",
       "      <td>Total</td>\n",
       "      <td>Not Applicable</td>\n",
       "      <td>Not Applicable</td>\n",
       "      <td>1965</td>\n",
       "      <td>11717.5817</td>\n",
       "    </tr>\n",
       "  </tbody>\n",
       "</table>\n",
       "</div>"
      ]
     },
     "execution_count": 4,
     "metadata": {},
     "output_type": "execute_result"
    }
   ],
   "execution_count": 4
  },
  {
   "metadata": {},
   "cell_type": "markdown",
   "source": "",
   "id": "4c110b4ac2af9322"
  },
  {
   "metadata": {},
   "cell_type": "markdown",
   "source": "# 🧹 Preprocessing",
   "id": "e3b156581cb35869"
  },
  {
   "metadata": {
    "ExecuteTime": {
     "end_time": "2025-06-18T12:45:33.563297Z",
     "start_time": "2025-06-18T12:45:33.536655Z"
    }
   },
   "cell_type": "code",
   "source": [
    "X = df.drop('OBS_VALUE', axis=1)\n",
    "y = df['OBS_VALUE']\n",
    "\n",
    "categorical_cols = [col for col in X.columns if X[col].dtype == 'object']\n",
    "\n",
    "preprocessor = ColumnTransformer([\n",
    "    ('cat', OneHotEncoder(handle_unknown='ignore'), categorical_cols)\n",
    "], remainder='passthrough')\n",
    "\n"
   ],
   "id": "7ecdd6d346a80a90",
   "outputs": [],
   "execution_count": 5
  },
  {
   "metadata": {},
   "cell_type": "markdown",
   "source": "## 🧠 Train Model\n",
   "id": "5703fc48cc267511"
  },
  {
   "metadata": {
    "ExecuteTime": {
     "end_time": "2025-06-18T12:45:59.862250Z",
     "start_time": "2025-06-18T12:45:37.946678Z"
    }
   },
   "cell_type": "code",
   "source": [
    "pipeline = Pipeline([\n",
    "    ('preprocessor', preprocessor),\n",
    "    ('model', RandomForestRegressor(n_estimators=100, random_state=42))\n",
    "])\n",
    "\n",
    "X_train, X_test, y_train, y_test = train_test_split(X, y, test_size=0.2, random_state=42)\n",
    "pipeline.fit(X_train, y_train)\n",
    "y_pred = pipeline.predict(X_test)\n"
   ],
   "id": "6baaae91ffcb74d3",
   "outputs": [],
   "execution_count": 6
  },
  {
   "metadata": {},
   "cell_type": "markdown",
   "source": "## 📊 Evaluation\n",
   "id": "a70ad8624e55e9a8"
  },
  {
   "metadata": {
    "ExecuteTime": {
     "end_time": "2025-06-18T12:46:06.638715Z",
     "start_time": "2025-06-18T12:46:06.627776Z"
    }
   },
   "cell_type": "code",
   "source": [
    "rmse = np.sqrt(mean_squared_error(y_test, y_pred))\n",
    "mae = mean_absolute_error(y_test, y_pred)\n",
    "r2 = r2_score(y_test, y_pred)\n",
    "\n",
    "print(f'RMSE: {rmse:.2f}')\n",
    "print(f'MAE: {mae:.2f}')\n",
    "print(f'R² Score: {r2:.4f}')\n"
   ],
   "id": "c8f1487c0a32f1d8",
   "outputs": [
    {
     "name": "stdout",
     "output_type": "stream",
     "text": [
      "RMSE: 36318.83\n",
      "MAE: 4330.32\n",
      "R² Score: 0.9983\n"
     ]
    }
   ],
   "execution_count": 7
  },
  {
   "metadata": {},
   "cell_type": "markdown",
   "source": "## 📈 Visualization\n",
   "id": "a1057111fbb364bd"
  },
  {
   "metadata": {
    "ExecuteTime": {
     "end_time": "2025-06-18T12:46:11.979442Z",
     "start_time": "2025-06-18T12:46:11.736330Z"
    }
   },
   "cell_type": "code",
   "source": [
    "plt.figure(figsize=(8, 5))\n",
    "sns.scatterplot(x=y_test, y=y_pred, alpha=0.6)\n",
    "plt.xlabel('Actual GHG Emissions')\n",
    "plt.ylabel('Predicted GHG Emissions')\n",
    "plt.title('Actual vs Predicted GHG Emissions')\n",
    "plt.grid(True)\n",
    "plt.tight_layout()\n",
    "plt.show()\n"
   ],
   "id": "41bb3e83fead875f",
   "outputs": [
    {
     "data": {
      "text/plain": [
       "<Figure size 800x500 with 1 Axes>"
      ],
      "image/png": "[encoded data removed]"
     },
     "metadata": {},
     "output_type": "display_data"
    }
   ],
   "execution_count": 8
  }
 ],
 "metadata": {
  "kernelspec": {
   "display_name": "Python 3",
   "language": "python",
   "name": "python3"
  },
  "language_info": {
   "codemirror_mode": {
    "name": "ipython",
    "version": 2
   },
   "file_extension": ".py",
   "mimetype": "text/x-python",
   "name": "python",
   "nbconvert_exporter": "python",
   "pygments_lexer": "ipython2",
   "version": "2.7.6"
  }
 },
 "nbformat": 4,
 "nbformat_minor": 5
}
